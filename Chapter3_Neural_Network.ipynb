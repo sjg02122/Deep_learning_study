{
  "nbformat": 4,
  "nbformat_minor": 0,
  "metadata": {
    "colab": {
      "name": "Chapter3_Neural_Network.ipynb",
      "provenance": [],
      "authorship_tag": "ABX9TyM4eDPzb8ml4CurJYUXaU3k",
      "include_colab_link": true
    },
    "kernelspec": {
      "name": "python3",
      "display_name": "Python 3"
    },
    "accelerator": "GPU"
  },
  "cells": [
    {
      "cell_type": "markdown",
      "metadata": {
        "id": "view-in-github",
        "colab_type": "text"
      },
      "source": [
        "<a href=\"https://colab.research.google.com/github/sjg02122/Deep_learning_study/blob/master/Chapter3_Neural_Network.ipynb\" target=\"_parent\"><img src=\"https://colab.research.google.com/assets/colab-badge.svg\" alt=\"Open In Colab\"/></a>"
      ]
    },
    {
      "cell_type": "markdown",
      "metadata": {
        "id": "1TS7qVYuysC7",
        "colab_type": "text"
      },
      "source": [
        "#Step_Function"
      ]
    },
    {
      "cell_type": "code",
      "metadata": {
        "id": "uy1G1d2Cxdjp",
        "colab_type": "code",
        "colab": {}
      },
      "source": [
        "import numpy as np\n",
        "import matplotlib.pylab as plt"
      ],
      "execution_count": 0,
      "outputs": []
    },
    {
      "cell_type": "code",
      "metadata": {
        "id": "PQfrEyUsxtdw",
        "colab_type": "code",
        "colab": {}
      },
      "source": [
        "def step_function(x):\n",
        "  y= x>0\n",
        "  return y.astype(np.int)"
      ],
      "execution_count": 0,
      "outputs": []
    },
    {
      "cell_type": "code",
      "metadata": {
        "id": "NGuiGL55xwtL",
        "colab_type": "code",
        "outputId": "6074cde5-2070-4070-b2bf-cec1ae2ef356",
        "colab": {
          "base_uri": "https://localhost:8080/",
          "height": 265
        }
      },
      "source": [
        "x = np.arange(-5.0,5.0,0.1)\n",
        "y = step_function(x)\n",
        "\n",
        "plt.plot(x,y)\n",
        "plt.ylim(-0.1,1.1)\n",
        "plt.show()"
      ],
      "execution_count": 0,
      "outputs": [
        {
          "output_type": "display_data",
          "data": {
            "image/png": "[encoded data removed]",
            "text/plain": [
              "<Figure size 432x288 with 1 Axes>"
            ]
          },
          "metadata": {
            "tags": []
          }
        }
      ]
    },
    {
      "cell_type": "markdown",
      "metadata": {
        "id": "KSvyX6DkyxC6",
        "colab_type": "text"
      },
      "source": [
        "#Sigmoid_Function"
      ]
    },
    {
      "cell_type": "code",
      "metadata": {
        "id": "DMPSsERkyQDD",
        "colab_type": "code",
        "colab": {}
      },
      "source": [
        "def sigmoid(x):\n",
        "  return 1/(1+np.exp(-x))"
      ],
      "execution_count": 0,
      "outputs": []
    },
    {
      "cell_type": "code",
      "metadata": {
        "id": "9tvUhLNWy8v2",
        "colab_type": "code",
        "colab": {}
      },
      "source": [
        "x = np.arange(-5.0,5.0,0.1)\n",
        "y=sigmoid(x)"
      ],
      "execution_count": 0,
      "outputs": []
    },
    {
      "cell_type": "code",
      "metadata": {
        "id": "dhg02FA0zBaA",
        "colab_type": "code",
        "outputId": "041ff149-504e-4af4-aa3f-69a094cfebce",
        "colab": {
          "base_uri": "https://localhost:8080/",
          "height": 265
        }
      },
      "source": [
        "plt.plot(x,y)\n",
        "plt.ylim(-0.1,1.1)\n",
        "plt.show()"
      ],
      "execution_count": 0,
      "outputs": [
        {
          "output_type": "display_data",
          "data": {
            "image/png": "[encoded data removed]",
            "text/plain": [
              "<Figure size 432x288 with 1 Axes>"
            ]
          },
          "metadata": {
            "tags": []
          }
        }
      ]
    },
    {
      "cell_type": "markdown",
      "metadata": {
        "id": "GN9BmofJ0kG7",
        "colab_type": "text"
      },
      "source": [
        "# ReLU_Function"
      ]
    },
    {
      "cell_type": "code",
      "metadata": {
        "id": "e49EZ69YzGxV",
        "colab_type": "code",
        "colab": {}
      },
      "source": [
        "def relu(x):\n",
        "  return np.maximum(0,x)"
      ],
      "execution_count": 0,
      "outputs": []
    },
    {
      "cell_type": "markdown",
      "metadata": {
        "id": "V_YmsTI71__u",
        "colab_type": "text"
      },
      "source": [
        "#3-layers-Neural-Network"
      ]
    },
    {
      "cell_type": "code",
      "metadata": {
        "id": "kwBsRaZZ0qdB",
        "colab_type": "code",
        "outputId": "7485bb2e-adbc-4bae-bf3b-6e8dab9fe270",
        "colab": {
          "base_uri": "https://localhost:8080/",
          "height": 68
        }
      },
      "source": [
        "x=np.array([1.0,0.5])\n",
        "w1 = np.array([[0.1,0.3,0.5],[0.2,0.4,0.6]])\n",
        "b1 = np.array([0.1,0.2,0.3])\n",
        "\n",
        "print(x.shape)\n",
        "print(w1.shape)\n",
        "print(b1.shape)"
      ],
      "execution_count": 0,
      "outputs": [
        {
          "output_type": "stream",
          "text": [
            "(2,)\n",
            "(2, 3)\n",
            "(3,)\n"
          ],
          "name": "stdout"
        }
      ]
    },
    {
      "cell_type": "code",
      "metadata": {
        "id": "sWt_-e0N2cn3",
        "colab_type": "code",
        "colab": {}
      },
      "source": [
        "A1 = np.dot(x,w1)+b1"
      ],
      "execution_count": 0,
      "outputs": []
    },
    {
      "cell_type": "code",
      "metadata": {
        "id": "pJR8pxTi2lw3",
        "colab_type": "code",
        "outputId": "83e133e4-9f83-40d2-f3ed-3a812bab8c4c",
        "colab": {
          "base_uri": "https://localhost:8080/",
          "height": 51
        }
      },
      "source": [
        "Z1 = sigmoid(A1)\n",
        "\n",
        "print(A1)\n",
        "print(Z1)"
      ],
      "execution_count": 0,
      "outputs": [
        {
          "output_type": "stream",
          "text": [
            "[0.3 0.7 1.1]\n",
            "[0.57444252 0.66818777 0.75026011]\n"
          ],
          "name": "stdout"
        }
      ]
    },
    {
      "cell_type": "code",
      "metadata": {
        "id": "4dwP8Q4x2v1a",
        "colab_type": "code",
        "colab": {}
      },
      "source": [
        "w2 = np.array([[0.1,0.4],[0.2,0.5],[0.3,0.6]])\n",
        "b2 = np.array([0.1,0.2])\n",
        "\n",
        "A2 = np.dot(Z1,w2)+b2\n",
        "Z2 = sigmoid(A2)"
      ],
      "execution_count": 0,
      "outputs": []
    },
    {
      "cell_type": "code",
      "metadata": {
        "id": "3HSVe1Nx3HZM",
        "colab_type": "code",
        "colab": {}
      },
      "source": [
        "def identity_function(x):\n",
        "  return x\n",
        "\n",
        "w3 = np.array([[0.1,0.3],[0.2,0.4]])\n",
        "b3 = np.array([0.1,0.2])\n",
        "\n",
        "A3 = np.dot(Z2,w3)+b3\n",
        "Y = identity_function(A3)"
      ],
      "execution_count": 0,
      "outputs": []
    },
    {
      "cell_type": "code",
      "metadata": {
        "id": "4KwnWWP432J3",
        "colab_type": "code",
        "outputId": "86f4eae6-e6b5-43ab-eea6-13b514484abd",
        "colab": {
          "base_uri": "https://localhost:8080/",
          "height": 34
        }
      },
      "source": [
        "print(Y)"
      ],
      "execution_count": 0,
      "outputs": [
        {
          "output_type": "stream",
          "text": [
            "[0.31682708 0.69627909]\n"
          ],
          "name": "stdout"
        }
      ]
    },
    {
      "cell_type": "markdown",
      "metadata": {
        "id": "apKwDZGI4bma",
        "colab_type": "text"
      },
      "source": [
        "#Summary_3_layers_Neural_Network"
      ]
    },
    {
      "cell_type": "code",
      "metadata": {
        "id": "OIz07Rm94IVY",
        "colab_type": "code",
        "colab": {}
      },
      "source": [
        "def init_network():\n",
        "  network ={}\n",
        "  network['W1'] = np.array([[0.1,0.3,0.5],[0.2,0.4,0.6]])\n",
        "  network['b1'] = np.array([0.1,0.2,0.3])\n",
        "  network['W2'] = np.array([[0.1,0.4],[0.2,0.5],[0.3,0.6]])\n",
        "  network['b2'] = np.array([0.1,0.2])\n",
        "  network['W3'] = np.array([[0.1,0.3],[0.2,0.4]])\n",
        "  network['b3'] = np.array([0.1,0.2])\n",
        "\n",
        "  return network\n",
        "\n",
        "\n",
        "def forward(network,x):\n",
        "  W1,W2,W3 = network['W1'],network['W2'],network['W3']\n",
        "  b1,b2,b3 = network['b1'],network['b2'],network['b3']\n",
        "\n",
        "  a1 = np.dot(x,W1)+b1\n",
        "  z1 = sigmoid(a1)\n",
        "  a2 = np.dot(z1,W2)+b2\n",
        "  z2 = sigmoid(a2)\n",
        "  a3 = np.dot(z2,W3)+b3\n",
        "  y= identity_function(a3)\n",
        "\n",
        "  return y"
      ],
      "execution_count": 0,
      "outputs": []
    },
    {
      "cell_type": "code",
      "metadata": {
        "id": "VVnMR4M45Yjy",
        "colab_type": "code",
        "outputId": "40d1caf3-2273-4f92-9153-d41b679a7ca2",
        "colab": {
          "base_uri": "https://localhost:8080/",
          "height": 34
        }
      },
      "source": [
        "network = init_network()\n",
        "x=np.array([1.0,0.5])\n",
        "y= forward(network,x)\n",
        "print(y)"
      ],
      "execution_count": 0,
      "outputs": [
        {
          "output_type": "stream",
          "text": [
            "[0.31682708 0.69627909]\n"
          ],
          "name": "stdout"
        }
      ]
    },
    {
      "cell_type": "markdown",
      "metadata": {
        "id": "izIBuvypZDBM",
        "colab_type": "text"
      },
      "source": [
        "#Soft_max_function"
      ]
    },
    {
      "cell_type": "code",
      "metadata": {
        "id": "sIJ52T-W5uYF",
        "colab_type": "code",
        "colab": {}
      },
      "source": [
        "def softmax(a):\n",
        "  c= np.max(a)\n",
        "  exp_a = np.exp(a-c) #Block the overflow\n",
        "  sum_exp_a = np.sum(exp_a)\n",
        "  y = exp_a / sum_exp_a\n",
        "\n",
        "  return y"
      ],
      "execution_count": 0,
      "outputs": []
    },
    {
      "cell_type": "code",
      "metadata": {
        "id": "mX4Tg7Q3ZPMB",
        "colab_type": "code",
        "colab": {}
      },
      "source": [
        ""
      ],
      "execution_count": 0,
      "outputs": []
    }
  ]
}